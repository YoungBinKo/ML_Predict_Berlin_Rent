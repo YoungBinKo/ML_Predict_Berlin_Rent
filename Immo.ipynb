{
  "nbformat": 4,
  "nbformat_minor": 0,
  "metadata": {
    "colab": {
      "provenance": [],
      "mount_file_id": "1bk4dcGlOmt47EFoSqhz6XyTvv0Vz--MH",
      "authorship_tag": "ABX9TyMPtUVWPUGL+wdCoAYIrTVE"
    },
    "kernelspec": {
      "name": "python3",
      "display_name": "Python 3"
    },
    "language_info": {
      "name": "python"
    }
  },
  "cells": [
    {
      "cell_type": "code",
      "execution_count": 1,
      "metadata": {
        "id": "wn8AMWDXdVx6"
      },
      "outputs": [],
      "source": [
        "import numpy as np\n",
        "import pandas as pd"
      ]
    },
    {
      "cell_type": "code",
      "source": [
        "!unzip \"/content/drive/MyDrive/archive.zip\"\n",
        "!unzip \"/content/drive/MyDrive/berlin-crime.zip\""
      ],
      "metadata": {
        "colab": {
          "base_uri": "https://localhost:8080/"
        },
        "id": "2Hn739fMfVkd",
        "outputId": "f71897af-b9c6-42ba-c5e8-640949755f20"
      },
      "execution_count": 2,
      "outputs": [
        {
          "output_type": "stream",
          "name": "stdout",
          "text": [
            "Archive:  /content/drive/MyDrive/archive.zip\n",
            "  inflating: immo_data.csv           \n",
            "Archive:  /content/drive/MyDrive/berlin-crime.zip\n",
            "  inflating: Berlin_crimes.csv       \n",
            "Archive:  /content/drive/MyDrive/berlin-env.zip\n",
            "  inflating: BER_environmental_justice.csv  \n",
            "  inflating: LOR-Planungsraeume.geojson  \n"
          ]
        }
      ]
    },
    {
      "cell_type": "code",
      "source": [
        "house_df = pd.read_csv(\"/content/immo_data.csv\")\n",
        "crime_df = pd.read_csv(\"/content/Berlin_crimes.csv\")"
      ],
      "metadata": {
        "id": "QvJfwlNIesWw"
      },
      "execution_count": 2,
      "outputs": []
    },
    {
      "cell_type": "code",
      "source": [
        "berlin_house_df = house_df.loc[house_df['regio1'] == \"Berlin\"]\n",
        "berlin_house_df.info()"
      ],
      "metadata": {
        "colab": {
          "base_uri": "https://localhost:8080/"
        },
        "id": "TsNm2jNIf6mp",
        "outputId": "5e573773-2b49-430c-f6c3-f509996a064b"
      },
      "execution_count": 3,
      "outputs": [
        {
          "output_type": "stream",
          "name": "stdout",
          "text": [
            "<class 'pandas.core.frame.DataFrame'>\n",
            "Int64Index: 10406 entries, 45 to 268829\n",
            "Data columns (total 49 columns):\n",
            " #   Column                    Non-Null Count  Dtype  \n",
            "---  ------                    --------------  -----  \n",
            " 0   regio1                    10406 non-null  object \n",
            " 1   serviceCharge             10171 non-null  float64\n",
            " 2   heatingType               8935 non-null   object \n",
            " 3   telekomTvOffer            8994 non-null   object \n",
            " 4   telekomHybridUploadSpeed  918 non-null    float64\n",
            " 5   newlyConst                10406 non-null  bool   \n",
            " 6   balcony                   10406 non-null  bool   \n",
            " 7   picturecount              10406 non-null  int64  \n",
            " 8   pricetrend                10381 non-null  float64\n",
            " 9   telekomUploadSpeed        8993 non-null   float64\n",
            " 10  totalRent                 9744 non-null   float64\n",
            " 11  yearConstructed           8981 non-null   float64\n",
            " 12  scoutId                   10406 non-null  int64  \n",
            " 13  noParkSpaces              2013 non-null   float64\n",
            " 14  firingTypes               8122 non-null   object \n",
            " 15  hasKitchen                10406 non-null  bool   \n",
            " 16  geo_bln                   10406 non-null  object \n",
            " 17  cellar                    10406 non-null  bool   \n",
            " 18  yearConstructedRange      8981 non-null   float64\n",
            " 19  baseRent                  10406 non-null  float64\n",
            " 20  houseNumber               8879 non-null   object \n",
            " 21  livingSpace               10406 non-null  float64\n",
            " 22  geo_krs                   10406 non-null  object \n",
            " 23  condition                 8138 non-null   object \n",
            " 24  interiorQual              6198 non-null   object \n",
            " 25  petsAllowed               5568 non-null   object \n",
            " 26  street                    10406 non-null  object \n",
            " 27  streetPlain               8879 non-null   object \n",
            " 28  lift                      10406 non-null  bool   \n",
            " 29  baseRentRange             10406 non-null  int64  \n",
            " 30  typeOfFlat                9602 non-null   object \n",
            " 31  geo_plz                   10406 non-null  int64  \n",
            " 32  noRooms                   10406 non-null  float64\n",
            " 33  thermalChar               7131 non-null   float64\n",
            " 34  floor                     9306 non-null   float64\n",
            " 35  numberOfFloors            7279 non-null   float64\n",
            " 36  noRoomsRange              10406 non-null  int64  \n",
            " 37  garden                    10406 non-null  bool   \n",
            " 38  livingSpaceRange          10406 non-null  int64  \n",
            " 39  regio2                    10406 non-null  object \n",
            " 40  regio3                    10406 non-null  object \n",
            " 41  description               9742 non-null   object \n",
            " 42  facilities                9083 non-null   object \n",
            " 43  heatingCosts              5637 non-null   float64\n",
            " 44  energyEfficiencyClass     3489 non-null   object \n",
            " 45  lastRefurbish             3336 non-null   float64\n",
            " 46  electricityBasePrice      1995 non-null   float64\n",
            " 47  electricityKwhPrice       1995 non-null   float64\n",
            " 48  date                      10406 non-null  object \n",
            "dtypes: bool(6), float64(18), int64(6), object(19)\n",
            "memory usage: 3.6+ MB\n"
          ]
        }
      ]
    },
    {
      "cell_type": "code",
      "source": [
        "crime_df.info() # district"
      ],
      "metadata": {
        "colab": {
          "base_uri": "https://localhost:8080/"
        },
        "id": "Pq9dc2f3dVGD",
        "outputId": "c1edde7a-d90e-44ba-c08b-57ad6ca2c474"
      },
      "execution_count": 9,
      "outputs": [
        {
          "output_type": "stream",
          "name": "stdout",
          "text": [
            "<class 'pandas.core.frame.DataFrame'>\n",
            "RangeIndex: 1200 entries, 0 to 1199\n",
            "Data columns (total 20 columns):\n",
            " #   Column          Non-Null Count  Dtype \n",
            "---  ------          --------------  ----- \n",
            " 0   Year            1200 non-null   int64 \n",
            " 1   District        1200 non-null   object\n",
            " 2   Code            1200 non-null   int64 \n",
            " 3   Location        1200 non-null   object\n",
            " 4   Robbery         1200 non-null   int64 \n",
            " 5   Street_robbery  1200 non-null   int64 \n",
            " 6   Injury          1200 non-null   int64 \n",
            " 7   Agg_assault     1200 non-null   int64 \n",
            " 8   Threat          1200 non-null   int64 \n",
            " 9   Theft           1200 non-null   int64 \n",
            " 10  Car             1200 non-null   int64 \n",
            " 11  From_car        1200 non-null   int64 \n",
            " 12  Bike            1200 non-null   int64 \n",
            " 13  Burglary        1200 non-null   int64 \n",
            " 14  Fire            1200 non-null   int64 \n",
            " 15  Arson           1200 non-null   int64 \n",
            " 16  Damage          1200 non-null   int64 \n",
            " 17  Graffiti        1200 non-null   int64 \n",
            " 18  Drugs           1200 non-null   int64 \n",
            " 19  Local           1200 non-null   int64 \n",
            "dtypes: int64(18), object(2)\n",
            "memory usage: 187.6+ KB\n"
          ]
        }
      ]
    },
    {
      "cell_type": "code",
      "source": [
        "berlin_house_df['regio3'] = berlin_house_df['regio3'].apply(lambda x: x.split('_')[1])\n",
        "berlin_house_df.rename(columns={'regio3':'District'}, inplace=True)\n",
        "berlin_house_df.info()"
      ],
      "metadata": {
        "id": "yx9MZf3gzdhe",
        "colab": {
          "base_uri": "https://localhost:8080/"
        },
        "outputId": "3785050b-3f64-4bb7-cae1-8a32f8eff478"
      },
      "execution_count": 4,
      "outputs": [
        {
          "output_type": "stream",
          "name": "stdout",
          "text": [
            "<class 'pandas.core.frame.DataFrame'>\n",
            "Int64Index: 10406 entries, 45 to 268829\n",
            "Data columns (total 49 columns):\n",
            " #   Column                    Non-Null Count  Dtype  \n",
            "---  ------                    --------------  -----  \n",
            " 0   regio1                    10406 non-null  object \n",
            " 1   serviceCharge             10171 non-null  float64\n",
            " 2   heatingType               8935 non-null   object \n",
            " 3   telekomTvOffer            8994 non-null   object \n",
            " 4   telekomHybridUploadSpeed  918 non-null    float64\n",
            " 5   newlyConst                10406 non-null  bool   \n",
            " 6   balcony                   10406 non-null  bool   \n",
            " 7   picturecount              10406 non-null  int64  \n",
            " 8   pricetrend                10381 non-null  float64\n",
            " 9   telekomUploadSpeed        8993 non-null   float64\n",
            " 10  totalRent                 9744 non-null   float64\n",
            " 11  yearConstructed           8981 non-null   float64\n",
            " 12  scoutId                   10406 non-null  int64  \n",
            " 13  noParkSpaces              2013 non-null   float64\n",
            " 14  firingTypes               8122 non-null   object \n",
            " 15  hasKitchen                10406 non-null  bool   \n",
            " 16  geo_bln                   10406 non-null  object \n",
            " 17  cellar                    10406 non-null  bool   \n",
            " 18  yearConstructedRange      8981 non-null   float64\n",
            " 19  baseRent                  10406 non-null  float64\n",
            " 20  houseNumber               8879 non-null   object \n",
            " 21  livingSpace               10406 non-null  float64\n",
            " 22  geo_krs                   10406 non-null  object \n",
            " 23  condition                 8138 non-null   object \n",
            " 24  interiorQual              6198 non-null   object \n",
            " 25  petsAllowed               5568 non-null   object \n",
            " 26  street                    10406 non-null  object \n",
            " 27  streetPlain               8879 non-null   object \n",
            " 28  lift                      10406 non-null  bool   \n",
            " 29  baseRentRange             10406 non-null  int64  \n",
            " 30  typeOfFlat                9602 non-null   object \n",
            " 31  geo_plz                   10406 non-null  int64  \n",
            " 32  noRooms                   10406 non-null  float64\n",
            " 33  thermalChar               7131 non-null   float64\n",
            " 34  floor                     9306 non-null   float64\n",
            " 35  numberOfFloors            7279 non-null   float64\n",
            " 36  noRoomsRange              10406 non-null  int64  \n",
            " 37  garden                    10406 non-null  bool   \n",
            " 38  livingSpaceRange          10406 non-null  int64  \n",
            " 39  regio2                    10406 non-null  object \n",
            " 40  District                  10406 non-null  object \n",
            " 41  description               9742 non-null   object \n",
            " 42  facilities                9083 non-null   object \n",
            " 43  heatingCosts              5637 non-null   float64\n",
            " 44  energyEfficiencyClass     3489 non-null   object \n",
            " 45  lastRefurbish             3336 non-null   float64\n",
            " 46  electricityBasePrice      1995 non-null   float64\n",
            " 47  electricityKwhPrice       1995 non-null   float64\n",
            " 48  date                      10406 non-null  object \n",
            "dtypes: bool(6), float64(18), int64(6), object(19)\n",
            "memory usage: 3.6+ MB\n"
          ]
        },
        {
          "output_type": "stream",
          "name": "stderr",
          "text": [
            "<ipython-input-4-ed3b09cee8e4>:1: SettingWithCopyWarning: \n",
            "A value is trying to be set on a copy of a slice from a DataFrame.\n",
            "Try using .loc[row_indexer,col_indexer] = value instead\n",
            "\n",
            "See the caveats in the documentation: https://pandas.pydata.org/pandas-docs/stable/user_guide/indexing.html#returning-a-view-versus-a-copy\n",
            "  berlin_house_df['regio3'] = berlin_house_df['regio3'].apply(lambda x: x.split('_')[1])\n",
            "/usr/local/lib/python3.8/dist-packages/pandas/core/frame.py:5039: SettingWithCopyWarning: \n",
            "A value is trying to be set on a copy of a slice from a DataFrame\n",
            "\n",
            "See the caveats in the documentation: https://pandas.pydata.org/pandas-docs/stable/user_guide/indexing.html#returning-a-view-versus-a-copy\n",
            "  return super().rename(\n"
          ]
        }
      ]
    },
    {
      "cell_type": "code",
      "source": [
        "simple_berlin_house_df = berlin_house_df[['District','streetPlain','baseRent','livingSpace']]\n",
        "simple_berlin_house_df['streetPlain'].fillna(simple_berlin_house_df['District'], inplace=True)\n",
        "simple_berlin_house_df.rename(columns={'streetPlain':'street'}, inplace=True)\n",
        "simple_berlin_house_df['street'] = simple_berlin_house_df['street'].str.replace(\"_\", \" \")\n",
        "simple_berlin_house_df.to_csv(\"simple_berlin_house_df.csv\", index=False)\n",
        "simple_berlin_house_df.info()"
      ],
      "metadata": {
        "colab": {
          "base_uri": "https://localhost:8080/"
        },
        "id": "b8QCGoj99ZAs",
        "outputId": "03abfde7-6178-433e-dc75-8e09e9df2a34"
      },
      "execution_count": 5,
      "outputs": [
        {
          "output_type": "stream",
          "name": "stdout",
          "text": [
            "<class 'pandas.core.frame.DataFrame'>\n",
            "Int64Index: 10406 entries, 45 to 268829\n",
            "Data columns (total 4 columns):\n",
            " #   Column       Non-Null Count  Dtype  \n",
            "---  ------       --------------  -----  \n",
            " 0   District     10406 non-null  object \n",
            " 1   street       10406 non-null  object \n",
            " 2   baseRent     10406 non-null  float64\n",
            " 3   livingSpace  10406 non-null  float64\n",
            "dtypes: float64(2), object(2)\n",
            "memory usage: 406.5+ KB\n"
          ]
        },
        {
          "output_type": "stream",
          "name": "stderr",
          "text": [
            "/usr/local/lib/python3.8/dist-packages/pandas/core/generic.py:6392: SettingWithCopyWarning: \n",
            "A value is trying to be set on a copy of a slice from a DataFrame\n",
            "\n",
            "See the caveats in the documentation: https://pandas.pydata.org/pandas-docs/stable/user_guide/indexing.html#returning-a-view-versus-a-copy\n",
            "  return self._update_inplace(result)\n",
            "<ipython-input-5-c9549fdfb8e1>:4: SettingWithCopyWarning: \n",
            "A value is trying to be set on a copy of a slice from a DataFrame.\n",
            "Try using .loc[row_indexer,col_indexer] = value instead\n",
            "\n",
            "See the caveats in the documentation: https://pandas.pydata.org/pandas-docs/stable/user_guide/indexing.html#returning-a-view-versus-a-copy\n",
            "  simple_berlin_house_df['street'] = simple_berlin_house_df['street'].str.replace(\"_\", \" \")\n"
          ]
        }
      ]
    },
    {
      "cell_type": "code",
      "source": [
        "crime_df.rename(columns={'Location':'street'}, inplace=True)\n",
        "crime_df.info()"
      ],
      "metadata": {
        "colab": {
          "base_uri": "https://localhost:8080/"
        },
        "id": "QueHwzm_8U5j",
        "outputId": "813b3b48-1561-48e3-e7e3-35b88765b8dc"
      },
      "execution_count": 6,
      "outputs": [
        {
          "output_type": "stream",
          "name": "stdout",
          "text": [
            "<class 'pandas.core.frame.DataFrame'>\n",
            "RangeIndex: 1200 entries, 0 to 1199\n",
            "Data columns (total 20 columns):\n",
            " #   Column          Non-Null Count  Dtype \n",
            "---  ------          --------------  ----- \n",
            " 0   Year            1200 non-null   int64 \n",
            " 1   District        1200 non-null   object\n",
            " 2   Code            1200 non-null   int64 \n",
            " 3   street          1200 non-null   object\n",
            " 4   Robbery         1200 non-null   int64 \n",
            " 5   Street_robbery  1200 non-null   int64 \n",
            " 6   Injury          1200 non-null   int64 \n",
            " 7   Agg_assault     1200 non-null   int64 \n",
            " 8   Threat          1200 non-null   int64 \n",
            " 9   Theft           1200 non-null   int64 \n",
            " 10  Car             1200 non-null   int64 \n",
            " 11  From_car        1200 non-null   int64 \n",
            " 12  Bike            1200 non-null   int64 \n",
            " 13  Burglary        1200 non-null   int64 \n",
            " 14  Fire            1200 non-null   int64 \n",
            " 15  Arson           1200 non-null   int64 \n",
            " 16  Damage          1200 non-null   int64 \n",
            " 17  Graffiti        1200 non-null   int64 \n",
            " 18  Drugs           1200 non-null   int64 \n",
            " 19  Local           1200 non-null   int64 \n",
            "dtypes: int64(18), object(2)\n",
            "memory usage: 187.6+ KB\n"
          ]
        }
      ]
    },
    {
      "cell_type": "code",
      "source": [
        "simple_berlin_house_df.info()"
      ],
      "metadata": {
        "colab": {
          "base_uri": "https://localhost:8080/"
        },
        "id": "3_10S2Y1C4ZX",
        "outputId": "cdb9dbb3-45fe-46eb-b25d-cef2e90d64c3"
      },
      "execution_count": 71,
      "outputs": [
        {
          "output_type": "stream",
          "name": "stdout",
          "text": [
            "<class 'pandas.core.frame.DataFrame'>\n",
            "Int64Index: 10406 entries, 45 to 268829\n",
            "Data columns (total 3 columns):\n",
            " #   Column       Non-Null Count  Dtype  \n",
            "---  ------       --------------  -----  \n",
            " 0   District     10406 non-null  object \n",
            " 1   baseRent     10406 non-null  float64\n",
            " 2   livingSpace  10406 non-null  float64\n",
            "dtypes: float64(2), object(1)\n",
            "memory usage: 325.2+ KB\n"
          ]
        }
      ]
    },
    {
      "cell_type": "code",
      "source": [
        "berlin_miete_crime = pd.merge(simple_berlin_house_df, crime_df, how='right', on=['District'])\n",
        "berlin_miete_crime.to_csv(\"berlin_miete_crime.csv\", index=False)"
      ],
      "metadata": {
        "id": "ZEGhjWvpooz5"
      },
      "execution_count": 7,
      "outputs": []
    },
    {
      "cell_type": "code",
      "source": [
        "berlin_miete_crime[berlin_miete_crime.isna().any(axis=1)]"
      ],
      "metadata": {
        "colab": {
          "base_uri": "https://localhost:8080/",
          "height": 679
        },
        "id": "Arg7eF_TB8bl",
        "outputId": "3531efd1-cf3a-4409-8d82-aa5cc5bbfc46"
      },
      "execution_count": 8,
      "outputs": [
        {
          "output_type": "execute_result",
          "data": {
            "text/plain": [
              "                        District street_x  baseRent  livingSpace  Year  \\\n",
              "8855    Friedrichshain-Kreuzberg      NaN       NaN          NaN  2012   \n",
              "8856    Friedrichshain-Kreuzberg      NaN       NaN          NaN  2012   \n",
              "8857    Friedrichshain-Kreuzberg      NaN       NaN          NaN  2012   \n",
              "8858    Friedrichshain-Kreuzberg      NaN       NaN          NaN  2012   \n",
              "8859    Friedrichshain-Kreuzberg      NaN       NaN          NaN  2012   \n",
              "...                          ...      ...       ...          ...   ...   \n",
              "287931       Marzahn-Hellersdorf      NaN       NaN          NaN  2019   \n",
              "287932       Marzahn-Hellersdorf      NaN       NaN          NaN  2019   \n",
              "287933       Marzahn-Hellersdorf      NaN       NaN          NaN  2019   \n",
              "287934       Marzahn-Hellersdorf      NaN       NaN          NaN  2019   \n",
              "287935       Marzahn-Hellersdorf      NaN       NaN          NaN  2019   \n",
              "\n",
              "          Code                          street_y  Robbery  Street_robbery  \\\n",
              "8855     20101           Südliche Friedrichstadt      138              71   \n",
              "8856     20202              Tempelhofer Vorstadt      180              88   \n",
              "8857     20303             nördliche Luisenstadt      112              70   \n",
              "8858     20304              südliche Luisenstadt      109              82   \n",
              "8859     20405              Karl-Marx-Allee-Nord       58              34   \n",
              "...        ...                               ...      ...             ...   \n",
              "287931  100206                   Hellersdorf-Süd       17              11   \n",
              "287932  100307                          Biesdorf       17               9   \n",
              "287933  100408                         Kaulsdorf        8               4   \n",
              "287934  100409                         Mahlsdorf        3               3   \n",
              "287935  109900  Bezirk (Mz-Hd), nicht zuzuordnen        2               2   \n",
              "\n",
              "        Injury  ...  Car  From_car  Bike  Burglary  Fire  Arson  Damage  \\\n",
              "8855       723  ...   52       500   321       219    46     13     700   \n",
              "8856       932  ...   90       595   913       390    58     21     915   \n",
              "8857       504  ...   24       186   311       115    31     10     456   \n",
              "8858       395  ...   35       226   347       150    27     11     441   \n",
              "8859       235  ...   71       206   185        56    15      5     356   \n",
              "...        ...  ...  ...       ...   ...       ...   ...    ...     ...   \n",
              "287931     266  ...   29        56    57         7    21      7     272   \n",
              "287932     204  ...   48       152   158        76    16      6     187   \n",
              "287933     113  ...   24        81    98        40    14      7     137   \n",
              "287934      85  ...   38        88    78        85     9      4     191   \n",
              "287935       4  ...    3         5     1         0     0      0      14   \n",
              "\n",
              "        Graffiti  Drugs  Local  \n",
              "8855         102    351   1784  \n",
              "8856         194    397   2271  \n",
              "8857          82    168   1115  \n",
              "8858         129    423    963  \n",
              "8859          46     23    625  \n",
              "...          ...    ...    ...  \n",
              "287931        80     45    473  \n",
              "287932        29     34    396  \n",
              "287933        17     18    225  \n",
              "287934        56     30    197  \n",
              "287935         4     10     10  \n",
              "\n",
              "[600 rows x 23 columns]"
            ],
            "text/html": [
              "\n",
              "  <div id=\"df-2e6e65c1-de26-4b86-82a7-0f0f79036d1a\">\n",
              "    <div class=\"colab-df-container\">\n",
              "      <div>\n",
              "<style scoped>\n",
              "    .dataframe tbody tr th:only-of-type {\n",
              "        vertical-align: middle;\n",
              "    }\n",
              "\n",
              "    .dataframe tbody tr th {\n",
              "        vertical-align: top;\n",
              "    }\n",
              "\n",
              "    .dataframe thead th {\n",
              "        text-align: right;\n",
              "    }\n",
              "</style>\n",
              "<table border=\"1\" class=\"dataframe\">\n",
              "  <thead>\n",
              "    <tr style=\"text-align: right;\">\n",
              "      <th></th>\n",
              "      <th>District</th>\n",
              "      <th>street_x</th>\n",
              "      <th>baseRent</th>\n",
              "      <th>livingSpace</th>\n",
              "      <th>Year</th>\n",
              "      <th>Code</th>\n",
              "      <th>street_y</th>\n",
              "      <th>Robbery</th>\n",
              "      <th>Street_robbery</th>\n",
              "      <th>Injury</th>\n",
              "      <th>...</th>\n",
              "      <th>Car</th>\n",
              "      <th>From_car</th>\n",
              "      <th>Bike</th>\n",
              "      <th>Burglary</th>\n",
              "      <th>Fire</th>\n",
              "      <th>Arson</th>\n",
              "      <th>Damage</th>\n",
              "      <th>Graffiti</th>\n",
              "      <th>Drugs</th>\n",
              "      <th>Local</th>\n",
              "    </tr>\n",
              "  </thead>\n",
              "  <tbody>\n",
              "    <tr>\n",
              "      <th>8855</th>\n",
              "      <td>Friedrichshain-Kreuzberg</td>\n",
              "      <td>NaN</td>\n",
              "      <td>NaN</td>\n",
              "      <td>NaN</td>\n",
              "      <td>2012</td>\n",
              "      <td>20101</td>\n",
              "      <td>Südliche Friedrichstadt</td>\n",
              "      <td>138</td>\n",
              "      <td>71</td>\n",
              "      <td>723</td>\n",
              "      <td>...</td>\n",
              "      <td>52</td>\n",
              "      <td>500</td>\n",
              "      <td>321</td>\n",
              "      <td>219</td>\n",
              "      <td>46</td>\n",
              "      <td>13</td>\n",
              "      <td>700</td>\n",
              "      <td>102</td>\n",
              "      <td>351</td>\n",
              "      <td>1784</td>\n",
              "    </tr>\n",
              "    <tr>\n",
              "      <th>8856</th>\n",
              "      <td>Friedrichshain-Kreuzberg</td>\n",
              "      <td>NaN</td>\n",
              "      <td>NaN</td>\n",
              "      <td>NaN</td>\n",
              "      <td>2012</td>\n",
              "      <td>20202</td>\n",
              "      <td>Tempelhofer Vorstadt</td>\n",
              "      <td>180</td>\n",
              "      <td>88</td>\n",
              "      <td>932</td>\n",
              "      <td>...</td>\n",
              "      <td>90</td>\n",
              "      <td>595</td>\n",
              "      <td>913</td>\n",
              "      <td>390</td>\n",
              "      <td>58</td>\n",
              "      <td>21</td>\n",
              "      <td>915</td>\n",
              "      <td>194</td>\n",
              "      <td>397</td>\n",
              "      <td>2271</td>\n",
              "    </tr>\n",
              "    <tr>\n",
              "      <th>8857</th>\n",
              "      <td>Friedrichshain-Kreuzberg</td>\n",
              "      <td>NaN</td>\n",
              "      <td>NaN</td>\n",
              "      <td>NaN</td>\n",
              "      <td>2012</td>\n",
              "      <td>20303</td>\n",
              "      <td>nördliche Luisenstadt</td>\n",
              "      <td>112</td>\n",
              "      <td>70</td>\n",
              "      <td>504</td>\n",
              "      <td>...</td>\n",
              "      <td>24</td>\n",
              "      <td>186</td>\n",
              "      <td>311</td>\n",
              "      <td>115</td>\n",
              "      <td>31</td>\n",
              "      <td>10</td>\n",
              "      <td>456</td>\n",
              "      <td>82</td>\n",
              "      <td>168</td>\n",
              "      <td>1115</td>\n",
              "    </tr>\n",
              "    <tr>\n",
              "      <th>8858</th>\n",
              "      <td>Friedrichshain-Kreuzberg</td>\n",
              "      <td>NaN</td>\n",
              "      <td>NaN</td>\n",
              "      <td>NaN</td>\n",
              "      <td>2012</td>\n",
              "      <td>20304</td>\n",
              "      <td>südliche Luisenstadt</td>\n",
              "      <td>109</td>\n",
              "      <td>82</td>\n",
              "      <td>395</td>\n",
              "      <td>...</td>\n",
              "      <td>35</td>\n",
              "      <td>226</td>\n",
              "      <td>347</td>\n",
              "      <td>150</td>\n",
              "      <td>27</td>\n",
              "      <td>11</td>\n",
              "      <td>441</td>\n",
              "      <td>129</td>\n",
              "      <td>423</td>\n",
              "      <td>963</td>\n",
              "    </tr>\n",
              "    <tr>\n",
              "      <th>8859</th>\n",
              "      <td>Friedrichshain-Kreuzberg</td>\n",
              "      <td>NaN</td>\n",
              "      <td>NaN</td>\n",
              "      <td>NaN</td>\n",
              "      <td>2012</td>\n",
              "      <td>20405</td>\n",
              "      <td>Karl-Marx-Allee-Nord</td>\n",
              "      <td>58</td>\n",
              "      <td>34</td>\n",
              "      <td>235</td>\n",
              "      <td>...</td>\n",
              "      <td>71</td>\n",
              "      <td>206</td>\n",
              "      <td>185</td>\n",
              "      <td>56</td>\n",
              "      <td>15</td>\n",
              "      <td>5</td>\n",
              "      <td>356</td>\n",
              "      <td>46</td>\n",
              "      <td>23</td>\n",
              "      <td>625</td>\n",
              "    </tr>\n",
              "    <tr>\n",
              "      <th>...</th>\n",
              "      <td>...</td>\n",
              "      <td>...</td>\n",
              "      <td>...</td>\n",
              "      <td>...</td>\n",
              "      <td>...</td>\n",
              "      <td>...</td>\n",
              "      <td>...</td>\n",
              "      <td>...</td>\n",
              "      <td>...</td>\n",
              "      <td>...</td>\n",
              "      <td>...</td>\n",
              "      <td>...</td>\n",
              "      <td>...</td>\n",
              "      <td>...</td>\n",
              "      <td>...</td>\n",
              "      <td>...</td>\n",
              "      <td>...</td>\n",
              "      <td>...</td>\n",
              "      <td>...</td>\n",
              "      <td>...</td>\n",
              "      <td>...</td>\n",
              "    </tr>\n",
              "    <tr>\n",
              "      <th>287931</th>\n",
              "      <td>Marzahn-Hellersdorf</td>\n",
              "      <td>NaN</td>\n",
              "      <td>NaN</td>\n",
              "      <td>NaN</td>\n",
              "      <td>2019</td>\n",
              "      <td>100206</td>\n",
              "      <td>Hellersdorf-Süd</td>\n",
              "      <td>17</td>\n",
              "      <td>11</td>\n",
              "      <td>266</td>\n",
              "      <td>...</td>\n",
              "      <td>29</td>\n",
              "      <td>56</td>\n",
              "      <td>57</td>\n",
              "      <td>7</td>\n",
              "      <td>21</td>\n",
              "      <td>7</td>\n",
              "      <td>272</td>\n",
              "      <td>80</td>\n",
              "      <td>45</td>\n",
              "      <td>473</td>\n",
              "    </tr>\n",
              "    <tr>\n",
              "      <th>287932</th>\n",
              "      <td>Marzahn-Hellersdorf</td>\n",
              "      <td>NaN</td>\n",
              "      <td>NaN</td>\n",
              "      <td>NaN</td>\n",
              "      <td>2019</td>\n",
              "      <td>100307</td>\n",
              "      <td>Biesdorf</td>\n",
              "      <td>17</td>\n",
              "      <td>9</td>\n",
              "      <td>204</td>\n",
              "      <td>...</td>\n",
              "      <td>48</td>\n",
              "      <td>152</td>\n",
              "      <td>158</td>\n",
              "      <td>76</td>\n",
              "      <td>16</td>\n",
              "      <td>6</td>\n",
              "      <td>187</td>\n",
              "      <td>29</td>\n",
              "      <td>34</td>\n",
              "      <td>396</td>\n",
              "    </tr>\n",
              "    <tr>\n",
              "      <th>287933</th>\n",
              "      <td>Marzahn-Hellersdorf</td>\n",
              "      <td>NaN</td>\n",
              "      <td>NaN</td>\n",
              "      <td>NaN</td>\n",
              "      <td>2019</td>\n",
              "      <td>100408</td>\n",
              "      <td>Kaulsdorf</td>\n",
              "      <td>8</td>\n",
              "      <td>4</td>\n",
              "      <td>113</td>\n",
              "      <td>...</td>\n",
              "      <td>24</td>\n",
              "      <td>81</td>\n",
              "      <td>98</td>\n",
              "      <td>40</td>\n",
              "      <td>14</td>\n",
              "      <td>7</td>\n",
              "      <td>137</td>\n",
              "      <td>17</td>\n",
              "      <td>18</td>\n",
              "      <td>225</td>\n",
              "    </tr>\n",
              "    <tr>\n",
              "      <th>287934</th>\n",
              "      <td>Marzahn-Hellersdorf</td>\n",
              "      <td>NaN</td>\n",
              "      <td>NaN</td>\n",
              "      <td>NaN</td>\n",
              "      <td>2019</td>\n",
              "      <td>100409</td>\n",
              "      <td>Mahlsdorf</td>\n",
              "      <td>3</td>\n",
              "      <td>3</td>\n",
              "      <td>85</td>\n",
              "      <td>...</td>\n",
              "      <td>38</td>\n",
              "      <td>88</td>\n",
              "      <td>78</td>\n",
              "      <td>85</td>\n",
              "      <td>9</td>\n",
              "      <td>4</td>\n",
              "      <td>191</td>\n",
              "      <td>56</td>\n",
              "      <td>30</td>\n",
              "      <td>197</td>\n",
              "    </tr>\n",
              "    <tr>\n",
              "      <th>287935</th>\n",
              "      <td>Marzahn-Hellersdorf</td>\n",
              "      <td>NaN</td>\n",
              "      <td>NaN</td>\n",
              "      <td>NaN</td>\n",
              "      <td>2019</td>\n",
              "      <td>109900</td>\n",
              "      <td>Bezirk (Mz-Hd), nicht zuzuordnen</td>\n",
              "      <td>2</td>\n",
              "      <td>2</td>\n",
              "      <td>4</td>\n",
              "      <td>...</td>\n",
              "      <td>3</td>\n",
              "      <td>5</td>\n",
              "      <td>1</td>\n",
              "      <td>0</td>\n",
              "      <td>0</td>\n",
              "      <td>0</td>\n",
              "      <td>14</td>\n",
              "      <td>4</td>\n",
              "      <td>10</td>\n",
              "      <td>10</td>\n",
              "    </tr>\n",
              "  </tbody>\n",
              "</table>\n",
              "<p>600 rows × 23 columns</p>\n",
              "</div>\n",
              "      <button class=\"colab-df-convert\" onclick=\"convertToInteractive('df-2e6e65c1-de26-4b86-82a7-0f0f79036d1a')\"\n",
              "              title=\"Convert this dataframe to an interactive table.\"\n",
              "              style=\"display:none;\">\n",
              "        \n",
              "  <svg xmlns=\"http://www.w3.org/2000/svg\" height=\"24px\"viewBox=\"0 0 24 24\"\n",
              "       width=\"24px\">\n",
              "    <path d=\"M0 0h24v24H0V0z\" fill=\"none\"/>\n",
              "    <path d=\"M18.56 5.44l.94 2.06.94-2.06 2.06-.94-2.06-.94-.94-2.06-.94 2.06-2.06.94zm-11 1L8.5 8.5l.94-2.06 2.06-.94-2.06-.94L8.5 2.5l-.94 2.06-2.06.94zm10 10l.94 2.06.94-2.06 2.06-.94-2.06-.94-.94-2.06-.94 2.06-2.06.94z\"/><path d=\"M17.41 7.96l-1.37-1.37c-.4-.4-.92-.59-1.43-.59-.52 0-1.04.2-1.43.59L10.3 9.45l-7.72 7.72c-.78.78-.78 2.05 0 2.83L4 21.41c.39.39.9.59 1.41.59.51 0 1.02-.2 1.41-.59l7.78-7.78 2.81-2.81c.8-.78.8-2.07 0-2.86zM5.41 20L4 18.59l7.72-7.72 1.47 1.35L5.41 20z\"/>\n",
              "  </svg>\n",
              "      </button>\n",
              "      \n",
              "  <style>\n",
              "    .colab-df-container {\n",
              "      display:flex;\n",
              "      flex-wrap:wrap;\n",
              "      gap: 12px;\n",
              "    }\n",
              "\n",
              "    .colab-df-convert {\n",
              "      background-color: #E8F0FE;\n",
              "      border: none;\n",
              "      border-radius: 50%;\n",
              "      cursor: pointer;\n",
              "      display: none;\n",
              "      fill: #1967D2;\n",
              "      height: 32px;\n",
              "      padding: 0 0 0 0;\n",
              "      width: 32px;\n",
              "    }\n",
              "\n",
              "    .colab-df-convert:hover {\n",
              "      background-color: #E2EBFA;\n",
              "      box-shadow: 0px 1px 2px rgba(60, 64, 67, 0.3), 0px 1px 3px 1px rgba(60, 64, 67, 0.15);\n",
              "      fill: #174EA6;\n",
              "    }\n",
              "\n",
              "    [theme=dark] .colab-df-convert {\n",
              "      background-color: #3B4455;\n",
              "      fill: #D2E3FC;\n",
              "    }\n",
              "\n",
              "    [theme=dark] .colab-df-convert:hover {\n",
              "      background-color: #434B5C;\n",
              "      box-shadow: 0px 1px 3px 1px rgba(0, 0, 0, 0.15);\n",
              "      filter: drop-shadow(0px 1px 2px rgba(0, 0, 0, 0.3));\n",
              "      fill: #FFFFFF;\n",
              "    }\n",
              "  </style>\n",
              "\n",
              "      <script>\n",
              "        const buttonEl =\n",
              "          document.querySelector('#df-2e6e65c1-de26-4b86-82a7-0f0f79036d1a button.colab-df-convert');\n",
              "        buttonEl.style.display =\n",
              "          google.colab.kernel.accessAllowed ? 'block' : 'none';\n",
              "\n",
              "        async function convertToInteractive(key) {\n",
              "          const element = document.querySelector('#df-2e6e65c1-de26-4b86-82a7-0f0f79036d1a');\n",
              "          const dataTable =\n",
              "            await google.colab.kernel.invokeFunction('convertToInteractive',\n",
              "                                                     [key], {});\n",
              "          if (!dataTable) return;\n",
              "\n",
              "          const docLinkHtml = 'Like what you see? Visit the ' +\n",
              "            '<a target=\"_blank\" href=https://colab.research.google.com/notebooks/data_table.ipynb>data table notebook</a>'\n",
              "            + ' to learn more about interactive tables.';\n",
              "          element.innerHTML = '';\n",
              "          dataTable['output_type'] = 'display_data';\n",
              "          await google.colab.output.renderOutput(dataTable, element);\n",
              "          const docLink = document.createElement('div');\n",
              "          docLink.innerHTML = docLinkHtml;\n",
              "          element.appendChild(docLink);\n",
              "        }\n",
              "      </script>\n",
              "    </div>\n",
              "  </div>\n",
              "  "
            ]
          },
          "metadata": {},
          "execution_count": 8
        }
      ]
    },
    {
      "cell_type": "code",
      "source": [
        "berlin_miete_crime.dropna(inplace=True)\n",
        "berlin_miete_crime.info()"
      ],
      "metadata": {
        "colab": {
          "base_uri": "https://localhost:8080/"
        },
        "id": "t7FOFZKmqnbe",
        "outputId": "516460ba-12a2-4bdb-843c-ba93d83e92ab"
      },
      "execution_count": 16,
      "outputs": [
        {
          "output_type": "stream",
          "name": "stdout",
          "text": [
            "<class 'pandas.core.frame.DataFrame'>\n",
            "Int64Index: 299152 entries, 0 to 299151\n",
            "Data columns (total 17 columns):\n",
            " #   Column          Non-Null Count   Dtype  \n",
            "---  ------          --------------   -----  \n",
            " 0   baseRent        299152 non-null  float64\n",
            " 1   livingSpace     299152 non-null  float64\n",
            " 2   Robbery         299152 non-null  int64  \n",
            " 3   Street_robbery  299152 non-null  int64  \n",
            " 4   Injury          299152 non-null  int64  \n",
            " 5   Agg_assault     299152 non-null  int64  \n",
            " 6   Threat          299152 non-null  int64  \n",
            " 7   Theft           299152 non-null  int64  \n",
            " 8   Car             299152 non-null  int64  \n",
            " 9   From_car        299152 non-null  int64  \n",
            " 10  Bike            299152 non-null  int64  \n",
            " 11  Burglary        299152 non-null  int64  \n",
            " 12  Fire            299152 non-null  int64  \n",
            " 13  Arson           299152 non-null  int64  \n",
            " 14  Damage          299152 non-null  int64  \n",
            " 15  Graffiti        299152 non-null  int64  \n",
            " 16  Drugs           299152 non-null  int64  \n",
            "dtypes: float64(2), int64(15)\n",
            "memory usage: 41.1 MB\n"
          ]
        }
      ]
    },
    {
      "cell_type": "code",
      "source": [
        "berlin_miete_crime = berlin_miete_crime[['baseRent','livingSpace','Robbery', 'Street_robbery', 'Injury', 'Agg_assault', 'Threat', 'Theft', 'Car', 'From_car', 'Bike', 'Burglary', 'Fire', 'Arson', 'Damage', 'Graffiti', 'Drugs']]\n",
        "berlin_miete_crime.info()"
      ],
      "metadata": {
        "colab": {
          "base_uri": "https://localhost:8080/"
        },
        "id": "QJSFSW-YHkS5",
        "outputId": "7cdaff11-09e4-41af-f879-b332b9fdd93f"
      },
      "execution_count": 17,
      "outputs": [
        {
          "output_type": "stream",
          "name": "stdout",
          "text": [
            "<class 'pandas.core.frame.DataFrame'>\n",
            "Int64Index: 299152 entries, 0 to 299151\n",
            "Data columns (total 17 columns):\n",
            " #   Column          Non-Null Count   Dtype  \n",
            "---  ------          --------------   -----  \n",
            " 0   baseRent        299152 non-null  float64\n",
            " 1   livingSpace     299152 non-null  float64\n",
            " 2   Robbery         299152 non-null  int64  \n",
            " 3   Street_robbery  299152 non-null  int64  \n",
            " 4   Injury          299152 non-null  int64  \n",
            " 5   Agg_assault     299152 non-null  int64  \n",
            " 6   Threat          299152 non-null  int64  \n",
            " 7   Theft           299152 non-null  int64  \n",
            " 8   Car             299152 non-null  int64  \n",
            " 9   From_car        299152 non-null  int64  \n",
            " 10  Bike            299152 non-null  int64  \n",
            " 11  Burglary        299152 non-null  int64  \n",
            " 12  Fire            299152 non-null  int64  \n",
            " 13  Arson           299152 non-null  int64  \n",
            " 14  Damage          299152 non-null  int64  \n",
            " 15  Graffiti        299152 non-null  int64  \n",
            " 16  Drugs           299152 non-null  int64  \n",
            "dtypes: float64(2), int64(15)\n",
            "memory usage: 41.1 MB\n"
          ]
        }
      ]
    },
    {
      "cell_type": "markdown",
      "source": [
        "## Train a linear regression to predict house rental prices"
      ],
      "metadata": {
        "id": "BQGpo3mAr8on"
      }
    },
    {
      "cell_type": "code",
      "source": [
        "from sklearn.model_selection import train_test_split\n",
        "from sklearn.linear_model import LinearRegression\n",
        "from sklearn.metrics import mean_squared_error, r2_score"
      ],
      "metadata": {
        "id": "KaT6pqKpDS6q"
      },
      "execution_count": 9,
      "outputs": []
    },
    {
      "cell_type": "code",
      "source": [
        "# Preprocess the data\n",
        "#berlin_miete_crime.fillna(berlin_miete_crime.mean(), inplace=True)\n",
        "x = berlin_miete_crime[['livingSpace','Robbery', 'Street_robbery', 'Injury', 'Agg_assault', 'Threat', 'Theft', 'Car', 'From_car', 'Bike', 'Burglary', 'Fire', 'Arson', 'Damage', 'Graffiti', 'Drugs']]\n",
        "y = berlin_miete_crime['baseRent']\n",
        "x_train, x_test, y_train, y_test = train_test_split(x, y, test_size=0.2)"
      ],
      "metadata": {
        "id": "FRk9TX5KsGvq"
      },
      "execution_count": 18,
      "outputs": []
    },
    {
      "cell_type": "code",
      "source": [
        "# Train\n",
        "reg = LinearRegression().fit(x_train, y_train)"
      ],
      "metadata": {
        "id": "j81WNre5sotv"
      },
      "execution_count": 19,
      "outputs": []
    },
    {
      "cell_type": "code",
      "source": [
        "# Evaluation\n",
        "y_pred = reg.predict(x_test)\n",
        "mse = mean_squared_error(y_test, y_pred)\n",
        "r2 = r2_score(y_test, y_pred)\n",
        "print('Mean Squared Error:', mse)\n",
        "print('R-Squared:', r2)"
      ],
      "metadata": {
        "colab": {
          "base_uri": "https://localhost:8080/"
        },
        "id": "tTvBKx74sqnu",
        "outputId": "e27477ab-4af6-436c-cdee-6034c66d5df6"
      },
      "execution_count": 20,
      "outputs": [
        {
          "output_type": "stream",
          "name": "stdout",
          "text": [
            "Mean Squared Error: 257834.27718732142\n",
            "R-Squared: 0.721020260402106\n"
          ]
        }
      ]
    },
    {
      "cell_type": "code",
      "source": [
        "import matplotlib.pyplot as plt\n",
        "\n",
        "plt.scatter(y_test, y_pred)\n",
        "plt.xlabel(\"Actual Values\")\n",
        "plt.ylabel(\"Predicted Values\")\n",
        "plt.title(\"Actual vs Predicted Values\")\n",
        "plt.show()"
      ],
      "metadata": {
        "id": "SaaxGOWAyLJ-",
        "colab": {
          "base_uri": "https://localhost:8080/",
          "height": 295
        },
        "outputId": "02eceb5a-0e15-46a4-bc1e-2d9c76710a2c"
      },
      "execution_count": 21,
      "outputs": [
        {
          "output_type": "display_data",
          "data": {
            "text/plain": [
              "<Figure size 432x288 with 1 Axes>"
            ],
            "image/png": "[encoded data removed]"
          },
          "metadata": {
            "needs_background": "light"
          }
        }
      ]
    },
    {
      "cell_type": "markdown",
      "source": [
        "## Train a Multi-Layer Perceptron (MLP)\n",
        "\n"
      ],
      "metadata": {
        "id": "--RVGbaowSFa"
      }
    },
    {
      "cell_type": "code",
      "source": [
        "from keras.models import Sequential\n",
        "from keras.layers import Dense\n",
        "from sklearn.preprocessing import StandardScaler"
      ],
      "metadata": {
        "id": "8MLnCxABwbg9"
      },
      "execution_count": 26,
      "outputs": []
    },
    {
      "cell_type": "code",
      "source": [
        "x_train, x_test, y_train, y_test = train_test_split(x, y, test_size=0.2, random_state=0)\n",
        "x_train = np.array(x_train)\n",
        "x_test = np.array(x_test)\n",
        "y_train = np.array(y_train)\n",
        "y_test = np.array(y_test)"
      ],
      "metadata": {
        "id": "C8Qx9FK1Lhfe"
      },
      "execution_count": 27,
      "outputs": []
    },
    {
      "cell_type": "code",
      "source": [
        "scaler = StandardScaler()\n",
        "x_train = scaler.fit_transform(x_train)\n",
        "x_test = scaler.transform(x_test)"
      ],
      "metadata": {
        "id": "JfyGcPGpN2Jc"
      },
      "execution_count": 28,
      "outputs": []
    },
    {
      "cell_type": "code",
      "source": [
        "model = Sequential()\n",
        "model.add(Dense(16, input_dim=x.shape[1], activation='relu'))\n",
        "model.add(Dense(8, activation='relu'))\n",
        "model.add(Dense(1, activation='linear'))\n",
        "\n",
        "# model.add(Dense(64, input_dim=x.shape[1], activation='relu'))\n",
        "# model.add(Dense(32, activation='relu'))\n",
        "# model.add(Dense(1))"
      ],
      "metadata": {
        "id": "Onp9PutVwkVn"
      },
      "execution_count": 37,
      "outputs": []
    },
    {
      "cell_type": "code",
      "source": [
        "model.compile(loss='mean_squared_error', optimizer='adam')\n",
        "history = model.fit(x_train, y_train, epochs=100, batch_size=32, validation_data=(x_test, y_test))"
      ],
      "metadata": {
        "colab": {
          "base_uri": "https://localhost:8080/"
        },
        "id": "AP8QxEpXLmcB",
        "outputId": "21eb7aa5-552f-476b-b4a3-5141c9347748"
      },
      "execution_count": 38,
      "outputs": [
        {
          "output_type": "stream",
          "name": "stdout",
          "text": [
            "Epoch 1/100\n",
            "7479/7479 [==============================] - 16s 2ms/step - loss: 654051.8125 - val_loss: 224627.7500\n",
            "Epoch 2/100\n",
            "7479/7479 [==============================] - 13s 2ms/step - loss: 217026.0938 - val_loss: 210897.0156\n",
            "Epoch 3/100\n",
            "7479/7479 [==============================] - 13s 2ms/step - loss: 207178.3281 - val_loss: 203441.2344\n",
            "Epoch 4/100\n",
            "7479/7479 [==============================] - 13s 2ms/step - loss: 200144.9531 - val_loss: 196490.4531\n",
            "Epoch 5/100\n",
            "7479/7479 [==============================] - 14s 2ms/step - loss: 191945.5469 - val_loss: 187308.2344\n",
            "Epoch 6/100\n",
            "7479/7479 [==============================] - 13s 2ms/step - loss: 183848.5781 - val_loss: 180031.3594\n",
            "Epoch 7/100\n",
            "7479/7479 [==============================] - 14s 2ms/step - loss: 176859.0000 - val_loss: 173410.4375\n",
            "Epoch 8/100\n",
            "7479/7479 [==============================] - 13s 2ms/step - loss: 171055.5938 - val_loss: 168790.0625\n",
            "Epoch 9/100\n",
            "7479/7479 [==============================] - 13s 2ms/step - loss: 166616.7969 - val_loss: 165106.8750\n",
            "Epoch 10/100\n",
            "7479/7479 [==============================] - 14s 2ms/step - loss: 163099.4688 - val_loss: 161515.7500\n",
            "Epoch 11/100\n",
            "7479/7479 [==============================] - 13s 2ms/step - loss: 159864.6094 - val_loss: 158685.1094\n",
            "Epoch 12/100\n",
            "7479/7479 [==============================] - 13s 2ms/step - loss: 157482.9062 - val_loss: 155948.6094\n",
            "Epoch 13/100\n",
            "7479/7479 [==============================] - 13s 2ms/step - loss: 155002.2656 - val_loss: 156326.9062\n",
            "Epoch 14/100\n",
            "7479/7479 [==============================] - 14s 2ms/step - loss: 152852.2969 - val_loss: 151661.2031\n",
            "Epoch 15/100\n",
            "7479/7479 [==============================] - 13s 2ms/step - loss: 150778.5469 - val_loss: 149583.3594\n",
            "Epoch 16/100\n",
            "7479/7479 [==============================] - 15s 2ms/step - loss: 148833.2812 - val_loss: 147157.6562\n",
            "Epoch 17/100\n",
            "7479/7479 [==============================] - 14s 2ms/step - loss: 146931.8750 - val_loss: 145912.1562\n",
            "Epoch 18/100\n",
            "7479/7479 [==============================] - 14s 2ms/step - loss: 145262.3125 - val_loss: 143897.5781\n",
            "Epoch 19/100\n",
            "7479/7479 [==============================] - 14s 2ms/step - loss: 143766.0156 - val_loss: 142993.8594\n",
            "Epoch 20/100\n",
            "7479/7479 [==============================] - 13s 2ms/step - loss: 142327.7188 - val_loss: 142192.8125\n",
            "Epoch 21/100\n",
            "7479/7479 [==============================] - 14s 2ms/step - loss: 141369.5938 - val_loss: 139947.9688\n",
            "Epoch 22/100\n",
            "7479/7479 [==============================] - 13s 2ms/step - loss: 140032.4062 - val_loss: 139173.6094\n",
            "Epoch 23/100\n",
            "7479/7479 [==============================] - 14s 2ms/step - loss: 139395.2031 - val_loss: 137744.7188\n",
            "Epoch 24/100\n",
            "7479/7479 [==============================] - 13s 2ms/step - loss: 138630.3906 - val_loss: 136857.5781\n",
            "Epoch 25/100\n",
            "7479/7479 [==============================] - 14s 2ms/step - loss: 137898.3594 - val_loss: 136206.3438\n",
            "Epoch 26/100\n",
            "7479/7479 [==============================] - 13s 2ms/step - loss: 137182.0000 - val_loss: 135666.9688\n",
            "Epoch 27/100\n",
            "7479/7479 [==============================] - 14s 2ms/step - loss: 136481.9531 - val_loss: 134928.8438\n",
            "Epoch 28/100\n",
            "7479/7479 [==============================] - 14s 2ms/step - loss: 135949.5469 - val_loss: 134059.6250\n",
            "Epoch 29/100\n",
            "7479/7479 [==============================] - 14s 2ms/step - loss: 135366.2656 - val_loss: 134396.8906\n",
            "Epoch 30/100\n",
            "7479/7479 [==============================] - 13s 2ms/step - loss: 135073.9062 - val_loss: 133131.6875\n",
            "Epoch 31/100\n",
            "7479/7479 [==============================] - 15s 2ms/step - loss: 134772.4062 - val_loss: 133805.7500\n",
            "Epoch 32/100\n",
            "7479/7479 [==============================] - 14s 2ms/step - loss: 134320.0938 - val_loss: 132029.4375\n",
            "Epoch 33/100\n",
            "7479/7479 [==============================] - 14s 2ms/step - loss: 134010.9531 - val_loss: 132244.3125\n",
            "Epoch 34/100\n",
            "7479/7479 [==============================] - 13s 2ms/step - loss: 133514.3281 - val_loss: 131838.8125\n",
            "Epoch 35/100\n",
            "7479/7479 [==============================] - 14s 2ms/step - loss: 133085.9688 - val_loss: 132059.3594\n",
            "Epoch 36/100\n",
            "7479/7479 [==============================] - 13s 2ms/step - loss: 132643.7344 - val_loss: 131005.6172\n",
            "Epoch 37/100\n",
            "7479/7479 [==============================] - 13s 2ms/step - loss: 132385.9844 - val_loss: 130811.5703\n",
            "Epoch 38/100\n",
            "7479/7479 [==============================] - 14s 2ms/step - loss: 132146.8750 - val_loss: 130577.5625\n",
            "Epoch 39/100\n",
            "7479/7479 [==============================] - 14s 2ms/step - loss: 131662.5781 - val_loss: 130164.3359\n",
            "Epoch 40/100\n",
            "7479/7479 [==============================] - 14s 2ms/step - loss: 131424.5469 - val_loss: 129268.5547\n",
            "Epoch 41/100\n",
            "7479/7479 [==============================] - 13s 2ms/step - loss: 131211.4688 - val_loss: 129340.8984\n",
            "Epoch 42/100\n",
            "7479/7479 [==============================] - 13s 2ms/step - loss: 130855.5078 - val_loss: 130264.4297\n",
            "Epoch 43/100\n",
            "7479/7479 [==============================] - 14s 2ms/step - loss: 130791.7578 - val_loss: 129043.1797\n",
            "Epoch 44/100\n",
            "7479/7479 [==============================] - 13s 2ms/step - loss: 130543.6484 - val_loss: 129010.2891\n",
            "Epoch 45/100\n",
            "7479/7479 [==============================] - 13s 2ms/step - loss: 130266.2031 - val_loss: 128529.7422\n",
            "Epoch 46/100\n",
            "7479/7479 [==============================] - 14s 2ms/step - loss: 130108.6719 - val_loss: 128143.3906\n",
            "Epoch 47/100\n",
            "7479/7479 [==============================] - 13s 2ms/step - loss: 129899.0547 - val_loss: 127940.8906\n",
            "Epoch 48/100\n",
            "7479/7479 [==============================] - 13s 2ms/step - loss: 129704.1094 - val_loss: 127847.4844\n",
            "Epoch 49/100\n",
            "7479/7479 [==============================] - 14s 2ms/step - loss: 129479.0781 - val_loss: 127441.5938\n",
            "Epoch 50/100\n",
            "7479/7479 [==============================] - 14s 2ms/step - loss: 129310.9375 - val_loss: 127324.0703\n",
            "Epoch 51/100\n",
            "7479/7479 [==============================] - 14s 2ms/step - loss: 129241.9297 - val_loss: 127550.9453\n",
            "Epoch 52/100\n",
            "7479/7479 [==============================] - 14s 2ms/step - loss: 129072.8516 - val_loss: 127880.0312\n",
            "Epoch 53/100\n",
            "7479/7479 [==============================] - 13s 2ms/step - loss: 128687.2500 - val_loss: 127124.9844\n",
            "Epoch 54/100\n",
            "7479/7479 [==============================] - 14s 2ms/step - loss: 128818.9609 - val_loss: 126879.6328\n",
            "Epoch 55/100\n",
            "7479/7479 [==============================] - 14s 2ms/step - loss: 128628.4219 - val_loss: 126707.4688\n",
            "Epoch 56/100\n",
            "7479/7479 [==============================] - 14s 2ms/step - loss: 128446.4062 - val_loss: 126551.3125\n",
            "Epoch 57/100\n",
            "7479/7479 [==============================] - 13s 2ms/step - loss: 128149.7031 - val_loss: 128025.8672\n",
            "Epoch 58/100\n",
            "7479/7479 [==============================] - 13s 2ms/step - loss: 128235.6484 - val_loss: 126064.7109\n",
            "Epoch 59/100\n",
            "7479/7479 [==============================] - 13s 2ms/step - loss: 127990.5859 - val_loss: 126281.8906\n",
            "Epoch 60/100\n",
            "7479/7479 [==============================] - 13s 2ms/step - loss: 127909.1953 - val_loss: 126114.8516\n",
            "Epoch 61/100\n",
            "7479/7479 [==============================] - 13s 2ms/step - loss: 127845.6484 - val_loss: 126961.2109\n",
            "Epoch 62/100\n",
            "7479/7479 [==============================] - 15s 2ms/step - loss: 127647.6719 - val_loss: 126372.3438\n",
            "Epoch 63/100\n",
            "7479/7479 [==============================] - 14s 2ms/step - loss: 127634.4375 - val_loss: 125482.4766\n",
            "Epoch 64/100\n",
            "7479/7479 [==============================] - 14s 2ms/step - loss: 127583.7500 - val_loss: 125423.0938\n",
            "Epoch 65/100\n",
            "7479/7479 [==============================] - 14s 2ms/step - loss: 127427.2109 - val_loss: 125398.8750\n",
            "Epoch 66/100\n",
            "7479/7479 [==============================] - 13s 2ms/step - loss: 127315.6797 - val_loss: 125959.7031\n",
            "Epoch 67/100\n",
            "7479/7479 [==============================] - 14s 2ms/step - loss: 127194.2266 - val_loss: 126406.0078\n",
            "Epoch 68/100\n",
            "7479/7479 [==============================] - 14s 2ms/step - loss: 127136.7109 - val_loss: 125758.4922\n",
            "Epoch 69/100\n",
            "7479/7479 [==============================] - 13s 2ms/step - loss: 127090.4141 - val_loss: 125545.1562\n",
            "Epoch 70/100\n",
            "7479/7479 [==============================] - 14s 2ms/step - loss: 126941.8281 - val_loss: 124564.9141\n",
            "Epoch 71/100\n",
            "7479/7479 [==============================] - 14s 2ms/step - loss: 126806.0938 - val_loss: 124586.2422\n",
            "Epoch 72/100\n",
            "7479/7479 [==============================] - 14s 2ms/step - loss: 126738.0625 - val_loss: 124333.0000\n",
            "Epoch 73/100\n",
            "7479/7479 [==============================] - 13s 2ms/step - loss: 126574.4062 - val_loss: 124635.4375\n",
            "Epoch 74/100\n",
            "7479/7479 [==============================] - 14s 2ms/step - loss: 126572.8906 - val_loss: 124405.6797\n",
            "Epoch 75/100\n",
            "7479/7479 [==============================] - 14s 2ms/step - loss: 126333.8672 - val_loss: 124751.8906\n",
            "Epoch 76/100\n",
            "7479/7479 [==============================] - 14s 2ms/step - loss: 126390.3047 - val_loss: 124316.5312\n",
            "Epoch 77/100\n",
            "7479/7479 [==============================] - 14s 2ms/step - loss: 126318.8828 - val_loss: 125398.9062\n",
            "Epoch 78/100\n",
            "7479/7479 [==============================] - 13s 2ms/step - loss: 126097.0703 - val_loss: 124493.3828\n",
            "Epoch 79/100\n",
            "7479/7479 [==============================] - 13s 2ms/step - loss: 126245.8281 - val_loss: 124260.6562\n",
            "Epoch 80/100\n",
            "7479/7479 [==============================] - 13s 2ms/step - loss: 126013.5156 - val_loss: 124335.1250\n",
            "Epoch 81/100\n",
            "7479/7479 [==============================] - 13s 2ms/step - loss: 125918.0391 - val_loss: 123756.6016\n",
            "Epoch 82/100\n",
            "7479/7479 [==============================] - 13s 2ms/step - loss: 125856.7500 - val_loss: 123786.7266\n",
            "Epoch 83/100\n",
            "7479/7479 [==============================] - 14s 2ms/step - loss: 125789.3359 - val_loss: 123754.0156\n",
            "Epoch 84/100\n",
            "7479/7479 [==============================] - 14s 2ms/step - loss: 125583.6172 - val_loss: 124391.7344\n",
            "Epoch 85/100\n",
            "7479/7479 [==============================] - 14s 2ms/step - loss: 125268.0000 - val_loss: 123661.6797\n",
            "Epoch 86/100\n",
            "7479/7479 [==============================] - 13s 2ms/step - loss: 125425.4453 - val_loss: 123270.6719\n",
            "Epoch 87/100\n",
            "7479/7479 [==============================] - 14s 2ms/step - loss: 125344.3047 - val_loss: 123192.7266\n",
            "Epoch 88/100\n",
            "7479/7479 [==============================] - 13s 2ms/step - loss: 125074.0547 - val_loss: 123033.0312\n",
            "Epoch 89/100\n",
            "7479/7479 [==============================] - 14s 2ms/step - loss: 125106.0625 - val_loss: 123405.0469\n",
            "Epoch 90/100\n",
            "7479/7479 [==============================] - 13s 2ms/step - loss: 124947.8984 - val_loss: 123194.1094\n",
            "Epoch 91/100\n",
            "7479/7479 [==============================] - 13s 2ms/step - loss: 124785.0859 - val_loss: 123211.3281\n",
            "Epoch 92/100\n",
            "7479/7479 [==============================] - 15s 2ms/step - loss: 124798.7578 - val_loss: 123403.8203\n",
            "Epoch 93/100\n",
            "7479/7479 [==============================] - 13s 2ms/step - loss: 124664.1250 - val_loss: 123218.3359\n",
            "Epoch 94/100\n",
            "7479/7479 [==============================] - 13s 2ms/step - loss: 124581.9688 - val_loss: 125603.0547\n",
            "Epoch 95/100\n",
            "7479/7479 [==============================] - 13s 2ms/step - loss: 124649.0000 - val_loss: 124173.5469\n",
            "Epoch 96/100\n",
            "7479/7479 [==============================] - 13s 2ms/step - loss: 124583.0781 - val_loss: 123212.0078\n",
            "Epoch 97/100\n",
            "7479/7479 [==============================] - 14s 2ms/step - loss: 124509.5625 - val_loss: 122790.7969\n",
            "Epoch 98/100\n",
            "7479/7479 [==============================] - 14s 2ms/step - loss: 124419.3047 - val_loss: 122934.5547\n",
            "Epoch 99/100\n",
            "7479/7479 [==============================] - 13s 2ms/step - loss: 124368.4531 - val_loss: 122708.3672\n",
            "Epoch 100/100\n",
            "7479/7479 [==============================] - 14s 2ms/step - loss: 124269.1016 - val_loss: 123153.4844\n"
          ]
        }
      ]
    },
    {
      "cell_type": "code",
      "source": [
        "test_loss = model.evaluate(x_test, y_test)"
      ],
      "metadata": {
        "colab": {
          "base_uri": "https://localhost:8080/"
        },
        "id": "aVfGmdcdNawj",
        "outputId": "2a6c8654-cd79-4fd8-e310-200eef2bad37"
      },
      "execution_count": 39,
      "outputs": [
        {
          "output_type": "stream",
          "name": "stdout",
          "text": [
            "1870/1870 [==============================] - 2s 1ms/step - loss: 123153.4844\n"
          ]
        }
      ]
    },
    {
      "cell_type": "code",
      "source": [
        "plt.plot(history.history['loss'], label='Training Loss')\n",
        "plt.plot(history.history['val_loss'], label='Validation Loss')\n",
        "plt.xlabel('Epochs')\n",
        "plt.ylabel('Loss')\n",
        "plt.title('Learning Curve')\n",
        "plt.legend()\n",
        "plt.show()"
      ],
      "metadata": {
        "colab": {
          "base_uri": "https://localhost:8080/",
          "height": 295
        },
        "id": "9Pb5ffZkNe7q",
        "outputId": "f1456388-80f6-45a4-e16b-895bdecbf463"
      },
      "execution_count": 40,
      "outputs": [
        {
          "output_type": "display_data",
          "data": {
            "text/plain": [
              "<Figure size 432x288 with 1 Axes>"
            ],
            "image/png": "[encoded data removed]"
          },
          "metadata": {
            "needs_background": "light"
          }
        }
      ]
    },
    {
      "cell_type": "code",
      "source": [
        "# Evaluation\n",
        "y_pred = model.predict(x_test)\n",
        "mse = np.mean((y_pred - y_test)**2)\n",
        "print(\"Mean Squared Error:\", mse)"
      ],
      "metadata": {
        "id": "PepdYv4Qwshx"
      },
      "execution_count": null,
      "outputs": []
    },
    {
      "cell_type": "code",
      "source": [
        "plt.scatter(y_test, y_pred)\n",
        "plt.xlabel('True Values')\n",
        "plt.ylabel('Predicted Values')\n",
        "plt.title('True vs Predicted Values')\n",
        "plt.show()"
      ],
      "metadata": {
        "id": "zxsP5UcRNj3m"
      },
      "execution_count": null,
      "outputs": []
    }
  ]
}